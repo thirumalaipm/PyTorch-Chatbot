{
 "cells": [
  {
   "cell_type": "code",
   "execution_count": 2,
   "metadata": {},
   "outputs": [],
   "source": [
    "import torch\n",
    "import torchvision\n",
    "import numpy as np"
   ]
  },
  {
   "cell_type": "code",
   "execution_count": 3,
   "metadata": {},
   "outputs": [
    {
     "name": "stdout",
     "output_type": "stream",
     "text": [
      "tensor([2, 2, 1])\n"
     ]
    }
   ],
   "source": [
    "# Tensor Basis\n",
    "# This is a 1-D Tensor\n",
    "a = torch.tensor([2,2,1])\n",
    "print(a)"
   ]
  },
  {
   "cell_type": "code",
   "execution_count": null,
   "metadata": {},
   "outputs": [],
   "source": []
  },
  {
   "cell_type": "code",
   "execution_count": 4,
   "metadata": {},
   "outputs": [
    {
     "name": "stdout",
     "output_type": "stream",
     "text": [
      "tensor([[2, 1, 4],\n",
      "        [3, 5, 4],\n",
      "        [1, 2, 0],\n",
      "        [4, 3, 2]])\n"
     ]
    }
   ],
   "source": [
    "# This is a 2-D tensor\n",
    "b = torch.tensor([[2,1,4],[3,5,4],[1,2,0],[4,3,2]])\n",
    "print(b)"
   ]
  },
  {
   "cell_type": "code",
   "execution_count": 5,
   "metadata": {},
   "outputs": [
    {
     "name": "stdout",
     "output_type": "stream",
     "text": [
      "torch.Size([3])\n",
      "torch.Size([3])\n",
      "torch.Size([4, 3])\n",
      "torch.Size([4, 3])\n"
     ]
    }
   ],
   "source": [
    "# The size of the tensors\n",
    "print(a.shape)\n",
    "print(a.size())\n",
    "print(b.shape)\n",
    "print(b.size())"
   ]
  },
  {
   "cell_type": "code",
   "execution_count": 6,
   "metadata": {},
   "outputs": [
    {
     "name": "stdout",
     "output_type": "stream",
     "text": [
      "4\n"
     ]
    }
   ],
   "source": [
    "# Get the height / number of rows of b tensor\n",
    "print(b.shape[0])"
   ]
  },
  {
   "cell_type": "code",
   "execution_count": 10,
   "metadata": {},
   "outputs": [
    {
     "name": "stdout",
     "output_type": "stream",
     "text": [
      "tensor([[2., 1., 4.],\n",
      "        [3., 5., 4.],\n",
      "        [1., 2., 0.],\n",
      "        [4., 3., 2.]])\n",
      "torch.float32\n"
     ]
    }
   ],
   "source": [
    "c = torch.FloatTensor([[2,1,4],[3,5,4],[1,2,0],[4,3,2]])\n",
    "# or we can do\n",
    "#c = torch.tensor([2,2,1], dtype = torch.float)\n",
    "print(c)\n",
    "print(c.dtype)"
   ]
  },
  {
   "cell_type": "code",
   "execution_count": 15,
   "metadata": {},
   "outputs": [
    {
     "name": "stdout",
     "output_type": "stream",
     "text": [
      "tensor([[2., 1., 4.],\n",
      "        [3., 5., 4.],\n",
      "        [1., 2., 0.],\n",
      "        [4., 3., 2.]], dtype=torch.float64)\n",
      "torch.float64\n"
     ]
    }
   ],
   "source": [
    "d = torch.DoubleTensor([[2,1,4],[3,5,4],[1,2,0],[4,3,2]])\n",
    "# or we can do\n",
    "#c = torch.tensor([2,2,1], dtype = torch.double)\n",
    "print(d)\n",
    "print(d.dtype)"
   ]
  },
  {
   "cell_type": "code",
   "execution_count": 16,
   "metadata": {},
   "outputs": [
    {
     "name": "stdout",
     "output_type": "stream",
     "text": [
      "tensor(2.5833, dtype=torch.float64)\n",
      "tensor(2.5833, dtype=torch.float64)\n"
     ]
    }
   ],
   "source": [
    "print(c.mean())\n",
    "print(d.mean())"
   ]
  },
  {
   "cell_type": "code",
   "execution_count": 17,
   "metadata": {},
   "outputs": [
    {
     "name": "stdout",
     "output_type": "stream",
     "text": [
      "tensor(1.5050, dtype=torch.float64)\n",
      "tensor(1.5050, dtype=torch.float64)\n"
     ]
    }
   ],
   "source": [
    "print(c.std())\n",
    "print(d.std())"
   ]
  },
  {
   "cell_type": "code",
   "execution_count": 33,
   "metadata": {},
   "outputs": [
    {
     "name": "stdout",
     "output_type": "stream",
     "text": [
      "tensor([[2, 1, 4],\n",
      "        [3, 5, 4],\n",
      "        [1, 2, 0],\n",
      "        [4, 3, 2]])\n",
      "torch.Size([4, 3])\n",
      "\n",
      "b.view(-1,1):\n",
      "tensor([[2],\n",
      "        [1],\n",
      "        [4],\n",
      "        [3],\n",
      "        [5],\n",
      "        [4],\n",
      "        [1],\n",
      "        [2],\n",
      "        [0],\n",
      "        [4],\n",
      "        [3],\n",
      "        [2]])\n",
      "\n",
      "b.view(-1,2):\n",
      "tensor([[2, 1],\n",
      "        [4, 3],\n",
      "        [5, 4],\n",
      "        [1, 2],\n",
      "        [0, 4],\n",
      "        [3, 2]])\n",
      "\n",
      "b.view(12):\n",
      "tensor([2, 1, 4, 3, 5, 4, 1, 2, 0, 4, 3, 2])\n",
      "\n",
      "b.view(-1):\n",
      "tensor([2, 1, 4, 3, 5, 4, 1, 2, 0, 4, 3, 2])\n",
      "\n",
      "b.view(3,4)\n",
      "tensor([[2, 1, 4, 3],\n",
      "        [5, 4, 1, 2],\n",
      "        [0, 4, 3, 2]])\n"
     ]
    }
   ],
   "source": [
    "#Reshape\n",
    "#Note: If one of the dimensions is -1, its size can e inferred\n",
    "print(b)\n",
    "print(b.shape)\n",
    "print(\"\\nb.view(-1,1):\")\n",
    "print(b.view(-1,1))\n",
    "print(\"\\nb.view(-1,2):\")\n",
    "print(b.view(-1,2))\n",
    "print(\"\\nb.view(12):\")\n",
    "print(b.view(12))\n",
    "print(\"\\nb.view(-1):\")\n",
    "print(b.view(-1))\n",
    "print(\"\\nb.view(3,4)\")\n",
    "print(b.view(3,4))"
   ]
  },
  {
   "cell_type": "code",
   "execution_count": 35,
   "metadata": {},
   "outputs": [
    {
     "name": "stdout",
     "output_type": "stream",
     "text": [
      "tensor([[2, 1, 4, 3, 5, 4, 1, 2, 0, 4, 3, 2]])\n",
      "torch.Size([1, 12])\n"
     ]
    }
   ],
   "source": [
    "#Assign b a new shape\n",
    "b = b.view(1,-1)\n",
    "print(b)\n",
    "print(b.shape)"
   ]
  },
  {
   "cell_type": "code",
   "execution_count": 43,
   "metadata": {},
   "outputs": [
    {
     "name": "stdout",
     "output_type": "stream",
     "text": [
      "tensor([[[-0.4453, -0.3976,  1.2583, -0.5768],\n",
      "         [-1.1625, -0.2126, -0.6871, -0.4643],\n",
      "         [-0.3391,  1.3170,  0.9472,  0.9708]],\n",
      "\n",
      "        [[-0.1895, -0.2199, -0.1299,  1.1770],\n",
      "         [-0.8983,  2.1682,  0.4821, -0.9502],\n",
      "         [ 1.8974,  1.7913,  0.3898, -1.8203]]])\n",
      "\n",
      "three_dim(view(2, 12))\n",
      "tensor([[-0.4453, -0.3976,  1.2583, -0.5768, -1.1625, -0.2126, -0.6871, -0.4643,\n",
      "         -0.3391,  1.3170,  0.9472,  0.9708],\n",
      "        [-0.1895, -0.2199, -0.1299,  1.1770, -0.8983,  2.1682,  0.4821, -0.9502,\n",
      "          1.8974,  1.7913,  0.3898, -1.8203]])\n",
      "\n",
      "three_dim.view(2,-1)\n",
      "tensor([[-0.4453, -0.3976,  1.2583, -0.5768, -1.1625, -0.2126, -0.6871, -0.4643,\n",
      "         -0.3391,  1.3170,  0.9472,  0.9708],\n",
      "        [-0.1895, -0.2199, -0.1299,  1.1770, -0.8983,  2.1682,  0.4821, -0.9502,\n",
      "          1.8974,  1.7913,  0.3898, -1.8203]])\n"
     ]
    }
   ],
   "source": [
    "# We can even reshape 3D tensors\n",
    "# Create a 3D Tensor with 2 channels, 3 rows and 4 columns (channels, rows, columns)\n",
    "three_dim = torch.randn(2,3,4)\n",
    "print(three_dim)\n",
    "print(\"\\nthree_dim(view(2, 12))\")\n",
    "print(three_dim.view(2, 12))\n",
    "print(\"\\nthree_dim.view(2,-1)\")\n",
    "print(three_dim.view(2,-1))"
   ]
  },
  {
   "cell_type": "code",
   "execution_count": 44,
   "metadata": {},
   "outputs": [
    {
     "name": "stdout",
     "output_type": "stream",
     "text": [
      "tensor([[0.3290, 0.2107, 0.5204, 0.2168],\n",
      "        [0.2591, 0.9871, 0.9499, 0.3070],\n",
      "        [0.8580, 0.4211, 0.4405, 0.5132],\n",
      "        [0.8342, 0.8987, 0.6044, 0.0651]])\n"
     ]
    }
   ],
   "source": [
    "# Create a martrix with random numbers between 1 and 1\n",
    "r = torch.rand(4, 4)\n",
    "print(r)"
   ]
  },
  {
   "cell_type": "code",
   "execution_count": 46,
   "metadata": {},
   "outputs": [
    {
     "name": "stdout",
     "output_type": "stream",
     "text": [
      "tensor([[-0.2512, -0.7007,  0.5869,  2.6225],\n",
      "        [ 0.1491,  2.0162, -0.2382, -2.3403],\n",
      "        [-0.8968, -1.2754,  1.0643,  1.6481],\n",
      "        [-0.8760,  1.3993, -1.2846, -1.3064]])\n",
      "torch.float32\n"
     ]
    }
   ],
   "source": [
    "# Create a matrix with random numbers taken from a normal distribution \n",
    "# with mean 0 and variance 1\n",
    "r2 = torch.randn(4,4)\n",
    "print(r2)\n",
    "print(r2.dtype)"
   ]
  },
  {
   "cell_type": "code",
   "execution_count": 51,
   "metadata": {},
   "outputs": [
    {
     "name": "stdout",
     "output_type": "stream",
     "text": [
      "tensor([[-1.7672, -0.4486,  0.2094, -1.7813],\n",
      "        [-1.7037, -0.1303,  0.2090, -2.3718],\n",
      "        [-1.7970, -0.9790,  2.2273, -0.8103],\n",
      "        [ 0.6536, -0.5837,  1.7950, -0.2548]])\n",
      "torch.float32\n"
     ]
    }
   ],
   "source": [
    "# Create a matrix with random numbers taken from a normal distribution \n",
    "# with mean 0 and variance 1\n",
    "r2 = torch.randn(4,4)\n",
    "print(r2)\n",
    "print(r2.dtype)"
   ]
  },
  {
   "cell_type": "code",
   "execution_count": 56,
   "metadata": {},
   "outputs": [
    {
     "name": "stdout",
     "output_type": "stream",
     "text": [
      "tensor([7, 8, 7, 6, 8])\n",
      "torch.int64\n"
     ]
    }
   ],
   "source": [
    "# Create an array of 5 random integers from values \n",
    "# between 6 and 9 (exclusive of 10)\n",
    "in_array = torch.randint(6,10,(5,))\n",
    "print(in_array)\n",
    "print(in_array.dtype)"
   ]
  },
  {
   "cell_type": "code",
   "execution_count": 65,
   "metadata": {},
   "outputs": [
    {
     "name": "stdout",
     "output_type": "stream",
     "text": [
      "tensor([[8, 8, 8],\n",
      "        [8, 6, 8],\n",
      "        [7, 7, 6]])\n"
     ]
    }
   ],
   "source": [
    "# Create a 2-D array (or matrix) of size 3x3 filled with\n",
    "# random integers from values between 6 and 9 (exclusive of 10)\n",
    "in_array2 = torch.randint(6,10, (3,3))\n",
    "print(in_array2)"
   ]
  },
  {
   "cell_type": "code",
   "execution_count": 67,
   "metadata": {},
   "outputs": [
    {
     "name": "stdout",
     "output_type": "stream",
     "text": [
      "5\n",
      "9\n"
     ]
    }
   ],
   "source": [
    "# Get the number of elements in in_array\n",
    "print(torch.numel(in_array))\n",
    "# Get the number of elements in in_array\n",
    "print(torch.numel(in_array2))"
   ]
  },
  {
   "cell_type": "code",
   "execution_count": 69,
   "metadata": {},
   "outputs": [
    {
     "name": "stdout",
     "output_type": "stream",
     "text": [
      "tensor([[0, 0, 0],\n",
      "        [0, 0, 0],\n",
      "        [0, 0, 0]])\n",
      "0\n",
      "torch.float32\n"
     ]
    }
   ],
   "source": [
    "# Construct a 3x3 matrix of zeros and of dtype long:\n",
    "z = torch.zeros(3,3,dtype=torch.long)\n",
    "print(z)\n",
    "# Construct a 3x3 matrix of ones\n",
    "o =  torch.ones(3, 3)\n",
    "print(0)\n",
    "print(o.dtype)"
   ]
  },
  {
   "cell_type": "code",
   "execution_count": 97,
   "metadata": {},
   "outputs": [
    {
     "name": "stdout",
     "output_type": "stream",
     "text": [
      "tensor([[-1.7672, -0.4486,  0.2094, -1.7813],\n",
      "        [-1.7037, -0.1303,  0.2090, -2.3718],\n",
      "        [-1.7970, -0.9790,  2.2273, -0.8103],\n",
      "        [ 0.6536, -0.5837,  1.7950, -0.2548]])\n",
      "tensor([[-0.0107, -0.9573,  0.5590, -1.9536],\n",
      "        [-0.6410, -2.4402, -0.2079, -0.6323],\n",
      "        [-0.3340,  0.4602,  0.3865,  2.3460],\n",
      "        [-0.9019, -0.9835, -0.5100, -1.1063]], dtype=torch.float64)\n"
     ]
    }
   ],
   "source": [
    "print(r2)\n",
    "# Convert the data type of the tensor\n",
    "r2_like = torch.randn_like(r2, dtype=torch.double)\n",
    "print(r2_like)"
   ]
  },
  {
   "cell_type": "code",
   "execution_count": 100,
   "metadata": {},
   "outputs": [
    {
     "name": "stdout",
     "output_type": "stream",
     "text": [
      "tensor([[-1.4381, -0.2379,  0.7298, -1.5645],\n",
      "        [-1.4445,  0.8568,  1.1589, -2.0648],\n",
      "        [-0.9390, -0.5580,  2.6677, -0.2971],\n",
      "        [ 1.4877,  0.3150,  2.3993, -0.1897]])\n"
     ]
    }
   ],
   "source": [
    "# Add two tensors, make sure they are the same size and data type\n",
    "add_results = torch.add(r, r2)\n",
    "print(add_results)"
   ]
  },
  {
   "cell_type": "code",
   "execution_count": 104,
   "metadata": {},
   "outputs": [
    {
     "name": "stdout",
     "output_type": "stream",
     "text": [
      "tensor([[-1.7672, -0.4486,  0.2094, -1.7813],\n",
      "        [-1.7037, -0.1303,  0.2090, -2.3718],\n",
      "        [-1.7970, -0.9790,  2.2273, -0.8103],\n",
      "        [ 0.6536, -0.5837,  1.7950, -0.2548]])\n"
     ]
    }
   ],
   "source": [
    "# In-place addition (change the value of r2)\n",
    "r2.add(r)\n",
    "print(r2)"
   ]
  },
  {
   "cell_type": "code",
   "execution_count": 115,
   "metadata": {},
   "outputs": [
    {
     "name": "stdout",
     "output_type": "stream",
     "text": [
      "tensor([[-1.7672, -0.4486,  0.2094, -1.7813],\n",
      "        [-1.7037, -0.1303,  0.2090, -2.3718],\n",
      "        [-1.7970, -0.9790,  2.2273, -0.8103],\n",
      "        [ 0.6536, -0.5837,  1.7950, -0.2548]])\n",
      "tensor([-0.4486, -0.1303, -0.9790, -0.5837])\n",
      "tensor([[-1.7672, -0.4486],\n",
      "        [-1.7037, -0.1303],\n",
      "        [-1.7970, -0.9790],\n",
      "        [ 0.6536, -0.5837]])\n",
      "tensor([[-1.7672, -0.4486,  0.2094, -1.7813],\n",
      "        [-1.7037, -0.1303,  0.2090, -2.3718],\n",
      "        [-1.7970, -0.9790,  2.2273, -0.8103]])\n",
      "tensor(-0.8103)\n",
      "-0.8102676868438721\n",
      "tensor([-1.7970, -0.9790,  2.2273, -0.8103])\n"
     ]
    }
   ],
   "source": [
    "print(r2)\n",
    "print(r2[:,1])\n",
    "print(r2[:,:2])\n",
    "print(r2[:3,:])\n",
    "num_ten = r2[2,3]\n",
    "print(num_ten)\n",
    "print(num_ten.item())\n",
    "print(r2[2,:])"
   ]
  },
  {
   "cell_type": "code",
   "execution_count": null,
   "metadata": {},
   "outputs": [],
   "source": []
  }
 ],
 "metadata": {
  "kernelspec": {
   "display_name": "Python 3",
   "language": "python",
   "name": "python3"
  },
  "language_info": {
   "codemirror_mode": {
    "name": "ipython",
    "version": 3
   },
   "file_extension": ".py",
   "mimetype": "text/x-python",
   "name": "python",
   "nbconvert_exporter": "python",
   "pygments_lexer": "ipython3",
   "version": "3.7.3"
  }
 },
 "nbformat": 4,
 "nbformat_minor": 2
}
